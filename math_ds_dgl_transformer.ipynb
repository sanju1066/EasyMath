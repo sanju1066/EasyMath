{
 "cells": [
  {
   "cell_type": "code",
   "execution_count": null,
   "metadata": {},
   "outputs": [],
   "source": [
    "!pip install --user dgl\n",
    "!pip install --user --force https://github.com/chengs/tqdm/archive/colab.zip\n",
    "!pip install --user tensorboardX"
   ]
  },
  {
   "cell_type": "markdown",
   "metadata": {},
   "source": [
    "# Training a Transformer modelled as a Graph Neural Network with [DGL library](www.dgl.org) on Mathematical Dataset\n",
    "\n",
    "> You can contact me on twitter as [@mandubian](http://twitter.com/mandubian)\n",
    "\n",
    "**This notebook demonstrates the concept of a [Transformer](https://arxiv.org/abs/1706.03762) implemented as a Graph Neural Network using the cool [DGL library](www.dgl.org) and trained on Mathematical Reasoning Dataset v1.0 (arithmeric/add_sub/easy).**\n",
    "\n",
    "> All pictures in next paragraphs are just copies from this [DGL tutorial](https://docs.dgl.ai/en/latest/tutorials/models/4_old_wines/7_transformer.html) and [_All you need is attention_ paper](https://arxiv.org/abs/1706.03762) and I advise you to read both.\n",
    "\n",
    "### Reminders on Transformer\n",
    "\n",
    "A Transformer is an auto-regressive sequence-to-sequence model relying on 2 steps:\n",
    "\n",
    "![Transformer Model](media/transformer_figure.png)\n",
    "\n",
    "- A **multi-layer encoder** consisting in:\n",
    "\n",
    "    * Multi-head and position-aware self-attention that extracts an encoding of the sequence weighted by a map of attention (or energy, importance, likelikhood as you prefer) between every element of the sequence contextually to all the other elements in the same sequence (complexity in $n^2$ , $n$ being the size of sequence) (_picture from DGL tutorial_). ![Forward/Backward Self-Attention](media/encoder_attention.png)\n",
    "    * This builds an implicit relational data-storage containing all unique elements and their relations to all other elements encountered in the dataset.\n",
    "    * From this raw storage, patterns with higher semantics are extracted by fully-connected feed-forward layers.\n",
    "    * Both mechanisms together are designed to build a semantic relational embedding of any input sequence.\n",
    "    * All layers are also followed by residual connections to avoid vanishing risks\n",
    "    * FYI, multi-head is just the equivalent to increasing the volume of convolution filters in a CNN. You give it depth to let it discover different relations.\n",
    "\n",
    "\n",
    "- A **multi-layer decoder** consisting in:\n",
    "  \n",
    "    * Multi-head and position-aware self-attention layer that extracts an encoding of the expected output sequence (_except the last element as we want to predict it from previous elements_) weighted by a map of attention between elements of the output sequence and every **previous** other elements in the same sequence. This backward-only dependency is aimed at ensuring the auto-regressive nature of the network and the fact that you predict the next element from its past, not from its future. (_picture from DGL tutorial_) ![Backward Self-Attention](media/decoder_attention.png)\n",
    "    * Then, Multi-head and position-aware attention (_not self_) layer that encodes previously self-attention encoded output sequence (minus last element) weighted by a map of attention built on the above encoder's embedding of the input sequence (_Ouch I know it's not easy to put it in letters, look at Tranformer model above_). It allows to learn/represent the relations between every element in the output sequence with respect to elements in the input sequence. (_picture from DGL tutorial_) ![Backward Self-Attention](media/cross_language.png)\n",
    "    * Then, Fully-connected feed-forward layer extracts patterns and finally predicts the last/next element of the sequence.\n",
    "    * All layers are also followed by residual connections to avoid vanishing risks\n",
    "    \n",
    "> Transformer model has shown very high efficiency in discovering and storing semantic representation in sequences while being able to extract long-range relations (better than LSTM/RNN in all recent papers). Transformer is the cornerstone of models like BERT that beat all previous state of the art in recent language modeling.\n",
    "\n",
    "### From Transformer to Graph Neural Network\n",
    "\n",
    "In this small introduction to Transformer, I've been using the words `element` and `relation` quite often. When one thinks about elements having relations between each others, one immediately thinks about Graph.\n",
    "\n",
    "Recently, beside Transformers, I've been studying the topic of Graph Neural Networks that allow to build deep learning models that are able to learn, classify, clusterize, transform, generate graphs.\n",
    "\n",
    "Graph is certainly the most important data structure that you can find in all our recent systems. All social networks are based on that. Most database schema can be represented with graphs. Images can be seen are graphs. Result of Image segmentation or object detection can be seen as graphs. Any text can be modeled as a graph. Neural networks are themselves graphs, etc...\n",
    "\n",
    "And actually when you look carefully at Transformer and specially the 3 images above (copied from DGL tutorial), you immediately discover a whole graph ![Full_Graph](media/full_graph.png)\n",
    "\n",
    "- the **encoder self-attention** builds a full graph of the relations between every element and every others in the input sequence. Nodes of the graph are elements in the input sequence. Self-attention weights are the values on the edges between all nodes.\n",
    "- the **decoder self-attention** builds a graph of the relations between every element and the previous ones in the output sequence. Nodes of the graph are elements in the output sequence. Self-attention weights are the values on the edges between all nodes.\n",
    "- the **encoder/decoder attention** builds a graph of the relations between every element in the input sequence and every element in output sequence. Nodes of the graph are elements in the input/output sequence. Attention weights are the values on the edges between all nodes.\n",
    "\n",
    "\n",
    "I won't spend more time explaining how graph neural networks work, it's another long topic and everything is very well explained in this very good [GDL tutorial](https://docs.dgl.ai/en/latest/tutorials/models/4_old_wines/7_transformer.html).\n",
    "\n",
    "**Just keep in mind that Transformer can be seen as a special kind of Graph Neural Network that learns attention as the edge of the graph and finally reduces the whole graph in the prediction of the next element in the sequence.**\n",
    "\n",
    "Graph Neural domain is not so young but it's getting more attraction lately due to recent papers, evolutions and GPU power increase. Nobody knows yet the true power of graph neural networks, multiple models have been studied till now. There are several mature libraries:\n",
    "\n",
    "- [DGL library](www.dgl.org)\n",
    "- [Pytorch Geometric](https://github.com/rusty1s/pytorch_geometric)\n",
    "- [Deepmind GraphNets](https://github.com/deepmind/graph_nets).\n",
    "\n",
    "I'm mainly using Pytorch lately so Geometric and DGL were good candidates. `Pytorch Geometric` provides a lot of already implemented models with good doc and seems to aim at optimizing those models with different modelization tricks (Graph Neural Network are not very light-weight apparently :D). _I think I'll give it a try soon._\n",
    "\n",
    "For this Study, I've chosen `DGL` that provides a very idiomatic way to build graphs and very good documentation and tutorials and samples.\n",
    "\n",
    "_I don't have any mind between both libraries as I haven't got enough experience in this domain. If anyone has, don't hesitate to tell me._\n",
    "\n",
    "In the notebook, I train this DGL-Transformer on Mathematical Reasoning Dataset which is the main topic of this github repository and that was presented in this very cool paper:\n",
    "\n",
    "> Analysing Mathematical Reasoning Abilities of Neural Models\n",
    ">\n",
    "> David Saxton, Edward Grefenstette, Felix Hill, Pushmeet Kohli\n",
    ">\n",
    "> (Submitted on 2 Apr 2019)\n",
    ">\n",
    ">http://arxiv.org/abs/1904.01557\n",
    "\n",
    "\n",
    "Have fun and remember, you're not just a graph... or maybe you are ;)\n"
   ]
  },
  {
   "cell_type": "code",
   "execution_count": 8,
   "metadata": {},
   "outputs": [
    {
     "name": "stdout",
     "output_type": "stream",
     "text": [
      "Torch Version 1.0.0.dev20190402\n",
      "The autoreload extension is already loaded. To reload it, use:\n",
      "  %reload_ext autoreload\n"
     ]
    }
   ],
   "source": [
    "import math\n",
    "import numpy as np\n",
    "import torch\n",
    "\n",
    "\n",
    "#torch.multiprocessing.set_start_method(\"spawn\")\n",
    "\n",
    "from torch.utils import data\n",
    "import torch.optim as optim\n",
    "\n",
    "import math_dataset\n",
    "from math_dataset import MathDatasetManager\n",
    "\n",
    "from transformer.Models import Transformer\n",
    "from math_dataset import (\n",
    "    random_split_dataset,\n",
    "    GraphCollate,\n",
    "    MAX_ANSWER_SZ, MAX_QUESTION_SZ\n",
    ")\n",
    "import model_process\n",
    "import utils\n",
    "from tensorboard_utils import Tensorboard\n",
    "from tensorboard_utils import tensorboard_event_accumulator\n",
    "\n",
    "import checkpoints\n",
    "\n",
    "from dgl_transformer.dgl_transformer import Transformer\n",
    "from dgl_transformer.dataset.graph import GraphPool\n",
    "import dgl_model_process\n",
    "\n",
    "import matplotlib\n",
    "import numpy as np\n",
    "import matplotlib.pyplot as plt\n",
    "%matplotlib notebook  \n",
    "\n",
    "print(\"Torch Version\", torch.__version__)\n",
    "\n",
    "%load_ext autoreload\n",
    "%autoreload 2"
   ]
  },
  {
   "cell_type": "code",
   "execution_count": 2,
   "metadata": {},
   "outputs": [
    {
     "name": "stdout",
     "output_type": "stream",
     "text": [
      "device cuda\n"
     ]
    }
   ],
   "source": [
    "#seed = 1\n",
    "#torch.manual_seed(seed)\n",
    "device = torch.device(\"cuda\")\n",
    "print(\"device\", device)"
   ]
  },
  {
   "cell_type": "markdown",
   "metadata": {},
   "source": [
    "## Initializing Experiment"
   ]
  },
  {
   "cell_type": "code",
   "execution_count": 3,
   "metadata": {},
   "outputs": [],
   "source": [
    "exp_name = \"dgl_transformer_arithmetic_add_or_sub_easy\"\n",
    "unique_id = \"2019-05-03_1000\""
   ]
  },
  {
   "cell_type": "markdown",
   "metadata": {},
   "source": [
    "## Initializing Math Dataset Manager & Train/Val/Interpolate Datasets\n",
    "\n",
    "Interpolate dataset is a general-purpose dataset provided besides basic datasets in math reasoning datasets. It contains more generic questions/answers to test the generalization capabilities of your network for a given problem after learning."
   ]
  },
  {
   "cell_type": "code",
   "execution_count": 4,
   "metadata": {},
   "outputs": [
    {
     "name": "stdout",
     "output_type": "stream",
     "text": [
      "initialized MultiFilesMathDataset with categories ['algebra', 'numbers', 'polynomials', 'arithmetic', 'measurement', 'comparison', 'probability', 'calculus'] and types ['train-easy', 'train-medium', 'train-hard', 'interpolate', 'extrapolate']\n"
     ]
    }
   ],
   "source": [
    "mdsmgr = MathDatasetManager(\n",
    "  \"/home/mandubian/datasets/mathematics_dataset/v1.0\"\n",
    ")"
   ]
  },
  {
   "cell_type": "code",
   "execution_count": 5,
   "metadata": {},
   "outputs": [
    {
     "name": "stdout",
     "output_type": "stream",
     "text": [
      "train-easy dataset size 666666\n",
      "interpolate dataset size 10000\n"
     ]
    },
    {
     "name": "stderr",
     "output_type": "stream",
     "text": [
      "/usr/local/lib/python3.6/dist-packages/pandas/core/frame.py:4025: SettingWithCopyWarning: \n",
      "A value is trying to be set on a copy of a slice from a DataFrame\n",
      "\n",
      "See the caveats in the documentation: http://pandas.pydata.org/pandas-docs/stable/indexing.html#indexing-view-versus-copy\n",
      "  return super(DataFrame, self).rename(**kwargs)\n"
     ]
    }
   ],
   "source": [
    "ds = mdsmgr.build_dataset_from_module(\n",
    "    'arithmetic', 'add_or_sub', 'train-easy'\n",
    ")\n",
    "print(\"train-easy dataset size\", len(ds))\n",
    "\n",
    "ds_interpolate = mdsmgr.build_dataset_from_module(\n",
    "    'arithmetic', 'add_or_sub', 'interpolate'\n",
    ")\n",
    "print(\"interpolate dataset size\", len(ds_interpolate))"
   ]
  },
  {
   "cell_type": "markdown",
   "metadata": {},
   "source": [
    "## Build Model and Optimizer"
   ]
  },
  {
   "cell_type": "code",
   "execution_count": 6,
   "metadata": {},
   "outputs": [],
   "source": [
    "model = utils.build_dgl_transformer()"
   ]
  },
  {
   "cell_type": "code",
   "execution_count": 7,
   "metadata": {},
   "outputs": [],
   "source": [
    "optimizer = optim.Adam(model.parameters(), lr=6e-6, betas=(0.9, 0.995), eps=1e-9)\n"
   ]
  },
  {
   "cell_type": "markdown",
   "metadata": {},
   "source": [
    "## Build Dataloaders"
   ]
  },
  {
   "cell_type": "code",
   "execution_count": 10,
   "metadata": {},
   "outputs": [
    {
     "name": "stdout",
     "output_type": "stream",
     "text": [
      "start creating graph pool...\n",
      "successfully created graph pool, time: 4.079s\n"
     ]
    }
   ],
   "source": [
    "# Graph Collate allows to build graph batches for data_loader collation from raw math_dataset data\n",
    "graph_collate = GraphCollate()"
   ]
  },
  {
   "cell_type": "code",
   "execution_count": 9,
   "metadata": {},
   "outputs": [],
   "source": [
    "# here we split data in 80/10% for train/validation and use interpolate for test\n",
    "train_ds, val_ds = math_dataset.random_split_dataset(ds, split_rate=0.8)\n",
    "\n",
    "# we provide the function question_answer_to_position_batch_collate_fn that collates\n",
    "# all questions/answers into transformer format enhanced with char positioning\n",
    "train_loader = data.DataLoader(\n",
    "    train_ds, batch_size=56, shuffle=True, num_workers=4,\n",
    "    collate_fn=graph_collate(device), pin_memory=True)\n",
    "\n",
    "val_loader = data.DataLoader(\n",
    "    val_ds, batch_size=56, shuffle=False, num_workers=4,\n",
    "    collate_fn=graph_collate(device))\n",
    "\n",
    "interpolate_loader = data.DataLoader(\n",
    "    ds_interpolate, batch_size=48, shuffle=False, num_workers=4,\n",
    "    collate_fn=graph_collate(device))\n"
   ]
  },
  {
   "cell_type": "markdown",
   "metadata": {},
   "source": [
    "## Training"
   ]
  },
  {
   "cell_type": "code",
   "execution_count": 10,
   "metadata": {},
   "outputs": [
    {
     "name": "stdout",
     "output_type": "stream",
     "text": [
      "Writing TensorBoard events locally to runs/dgl_transformer_arithmetic_add_or_sub_easy_2019-05-03_1000\n"
     ]
    }
   ],
   "source": [
    "tb = Tensorboard(exp_name, unique_name=unique_id)"
   ]
  },
  {
   "cell_type": "code",
   "execution_count": 11,
   "metadata": {},
   "outputs": [],
   "source": [
    "model = model.to(device)\n"
   ]
  },
  {
   "cell_type": "code",
   "execution_count": null,
   "metadata": {},
   "outputs": [],
   "source": [
    "dgl_model_process.train(\n",
    "    exp_name, unique_id,\n",
    "    model, \n",
    "    train_loader, val_loader, interpolate_loader,\n",
    "    optimizer, device,\n",
    "    graph_pool=None,\n",
    "    epochs=20, tb=tb, log_interval=100,\n",
    "    start_epoch=1,\n",
    ")"
   ]
  },
  {
   "cell_type": "markdown",
   "metadata": {},
   "source": [
    "## Training remarks\n",
    "\n",
    "I trained this DGL-Graph transformer model for 6 epochs as every epochs takes about 1h15-1h30 on my 1080TI compared to classic Transformer that is about 20-30mn per epoch. I stopped it when it reached a quite flat gradient curve that is comparable to original Transformer training. But the training is clearly not yet over-fitting...\n",
    "\n",
    "I've remarkerd that DGL model training runs much slower than original Transformer but it also consumes as much GPU as CPU. Building graphs apparently take lots of resources. In terms of GPU memory, for original Transformer, I could batch by 128 without any risk of going out of GPU memory. For DGL Transformer, I could go up to 56 elements for batches but with 64, I run out of memory as soon as I want to run validation. So DGL Transformer also consumes more GPU memory.\n",
    "\n",
    "Let's also remark than in original Transformer training, I was using a train/validation dataset split of 90%/10% versus 80%/20% for DGL Transformer training. But it shouldn't change results so much due to the easy nature of arithmetic problems we are trying to learn in the current case.\n",
    "\n",
    "Anyway, let's have a look at training curves."
   ]
  },
  {
   "cell_type": "markdown",
   "metadata": {},
   "source": [
    "## Training Results"
   ]
  },
  {
   "cell_type": "markdown",
   "metadata": {},
   "source": [
    "### Extract data from Tensorboard logs"
   ]
  },
  {
   "cell_type": "code",
   "execution_count": 45,
   "metadata": {},
   "outputs": [],
   "source": [
    "# Aggregating 3 runs that were done on same model to improve its performance\n",
    "# and see best training accuracy on plots\n",
    "original_transfo_train_ea_1 = tensorboard_event_accumulator(\n",
    "    f\"./runs/math_ds_arithmetic_add_or_sub_easy_2019-04-22T13:32:24_train/events.out.tfevents.1555939951.c77692173f6a\"\n",
    ")\n",
    "original_transfo_train_ea_2 = tensorboard_event_accumulator(\n",
    "    f\"./runs/math_ds_arithmetic_add_or_sub_easy_2019-04-22T13:32:24_train/events.out.tfevents.1555967354.c77692173f6a\"\n",
    ")\n",
    "original_transfo_train_ea_3 = tensorboard_event_accumulator(\n",
    "    f\"./runs/math_ds_arithmetic_add_or_sub_easy_2019-04-22T13:32:24_train/events.out.tfevents.1555969013.c77692173f6a\"\n",
    ")\n",
    "\n",
    "\n",
    "original_transfo_valid_ea = tensorboard_event_accumulator(\n",
    "    f\"./runs/math_ds_arithmetic_add_or_sub_easy_2019-04-22T13:32:24_eval/events.out.tfevents.1555941107.c77692173f6a\"\n",
    ")\n",
    "\n",
    "original_transfo_interpolate_ea = tensorboard_event_accumulator(\n",
    "    f\"./runs/math_ds_arithmetic_add_or_sub_easy_2019-04-22T13:32:24_interpolate/events.out.tfevents.1555941116.c77692173f6a\"\n",
    ")\n",
    "\n",
    "original_transfo_train_accuracy_1 = original_transfo_train_ea_1.Scalars(\"epoch/accuracy\")\n",
    "original_transfo_train_accuracy_2 = original_transfo_train_ea_2.Scalars(\"epoch/accuracy\")\n",
    "original_transfo_train_accuracy_3 = original_transfo_train_ea_3.Scalars(\"epoch/accuracy\")\n",
    "#original_transfo_train_loss_per_char_1 = original_transfo_train_ea.Scalars(\"epoch/loss_per_char\")\n",
    "\n",
    "original_transfo_valid_accuracy = original_transfo_valid_ea.Scalars(\"epoch/accuracy\")\n",
    "#original_transfo_valid_loss_per_char = original_transfo_valid_ea.Scalars(\"epoch/loss_per_char\")\n",
    "\n",
    "original_transfo_interpolate_accuracy = original_transfo_interpolate_ea.Scalars(\"epoch/accuracy\")\n",
    "#original_transfo_interpolate_loss_per_char = original_transfo_interpolate_ea.Scalars(\"epoch/loss_per_char\")\n"
   ]
  },
  {
   "cell_type": "code",
   "execution_count": 46,
   "metadata": {},
   "outputs": [],
   "source": [
    "dgl_transfo_train_ea = tensorboard_event_accumulator(\n",
    "    f\"./runs/{exp_name}_{unique_id}_train/events.out.tfevents.1556872387.edbc806924f6\"\n",
    ")\n",
    "\n",
    "dgl_transfo_valid_ea = tensorboard_event_accumulator(\n",
    "    f\"./runs/{exp_name}_{unique_id}_eval/events.out.tfevents.1556880346.edbc806924f6\"\n",
    ")\n",
    "\n",
    "dgl_transfo_interpolate_ea = tensorboard_event_accumulator(\n",
    "    f\"./runs/{exp_name}_{unique_id}_interpolate/events.out.tfevents.1556880405.edbc806924f6\"\n",
    ")\n",
    "\n",
    "dgl_transfo_train_accuracy = dgl_transfo_train_ea.Scalars(\"epoch/accuracy\")\n",
    "dgl_transfo_train_loss_per_char = dgl_transfo_train_ea.Scalars(\"epoch/loss_per_char\")\n",
    "\n",
    "dgl_transfo_valid_accuracy = dgl_transfo_valid_ea.Scalars(\"epoch/accuracy\")\n",
    "dgl_valid_loss_per_char = dgl_transfo_valid_ea.Scalars(\"epoch/loss_per_char\")\n",
    "\n",
    "dgl_transfo_interpolate_accuracy = dgl_transfo_interpolate_ea.Scalars(\"epoch/accuracy\")\n",
    "dgl_transfo_interpolate_loss_per_char = dgl_transfo_interpolate_ea.Scalars(\"epoch/loss_per_char\")\n"
   ]
  },
  {
   "cell_type": "markdown",
   "metadata": {},
   "source": [
    "### Training Logs"
   ]
  },
  {
   "cell_type": "code",
   "execution_count": 47,
   "metadata": {},
   "outputs": [
    {
     "data": {
      "image/png": "[encoded data removed]",
      "text/plain": [
       "<Figure size 720x432 with 1 Axes>"
      ]
     },
     "metadata": {
      "needs_background": "light"
     },
     "output_type": "display_data"
    }
   ],
   "source": [
    "plt.rcParams['figure.figsize'] = [10, 6]\n",
    "\n",
    "fig, ax = plt.subplots()\n",
    "\n",
    "original_transfo_train_step = list(map(lambda l: l.step, original_transfo_train_accuracy_1))\n",
    "original_transfo_train_step.extend(list(map(lambda l: l.step, original_transfo_train_accuracy_2)))\n",
    "original_transfo_train_step.extend(list(map(lambda l: l.step, original_transfo_train_accuracy_3)))\n",
    "\n",
    "original_transfo_train_value = list(map(lambda l: l.value, original_transfo_train_accuracy_1))\n",
    "original_transfo_train_value.extend(list(map(lambda l: l.value, original_transfo_train_accuracy_2)))\n",
    "original_transfo_train_value.extend(list(map(lambda l: l.value, original_transfo_train_accuracy_3)))\n",
    "\n",
    "ax.plot(\n",
    "    original_transfo_train_step,\n",
    "    original_transfo_train_value,\n",
    "    marker='+', label='Original Transfo Train Accuracy'\n",
    ")\n",
    "ax.plot(\n",
    "    list(map(lambda l: l.step, dgl_transfo_train_accuracy)),\n",
    "    list(map(lambda l: l.value, dgl_transfo_train_accuracy)),\n",
    "    marker='o', label='DGL Transfo Train Accuracy'\n",
    ")\n",
    "plt.title('Arithmetic/Easy Train Accuracy')\n",
    "ax.legend(loc='upper left', frameon=False)\n",
    "plt.xticks(np.arange(0, 15, step=1.0))\n",
    "plt.yticks(np.arange(0.3, 1.0, step=0.1))\n",
    "plt.show()"
   ]
  },
  {
   "cell_type": "markdown",
   "metadata": {},
   "source": [
    "> **As we can see here, while training is much slower per epoch, DGL Transformer accuracy rises much faster and a bit higher than original Transformer (97% vs 94%)**."
   ]
  },
  {
   "cell_type": "code",
   "execution_count": 32,
   "metadata": {},
   "outputs": [
    {
     "data": {
      "image/png": "[encoded data removed]",
      "text/plain": [
       "<Figure size 720x432 with 1 Axes>"
      ]
     },
     "metadata": {
      "needs_background": "light"
     },
     "output_type": "display_data"
    }
   ],
   "source": [
    "plt.rcParams['figure.figsize'] = [10, 6]\n",
    "\n",
    "fig, ax = plt.subplots()\n",
    "\n",
    "ax.plot(\n",
    "    list(map(lambda l: l.step, original_transfo_valid_accuracy)),\n",
    "    list(map(lambda l: l.value, original_transfo_valid_accuracy)),\n",
    "    marker='+', label='Original Transfo Validation Accuracy'\n",
    ")\n",
    "ax.plot(\n",
    "    list(map(lambda l: l.step, dgl_transfo_valid_accuracy)),\n",
    "    list(map(lambda l: l.value, dgl_transfo_valid_accuracy)),\n",
    "    marker='o', label='DGL Transfo Validation Accuracy'\n",
    ")\n",
    "plt.title('Arithmetic/Easy Accuracy')\n",
    "ax.legend(loc='upper left', frameon=False)\n",
    "plt.xticks(np.arange(0, 12, step=1.0))\n",
    "plt.yticks(np.arange(0.3, 1.0, step=0.1))\n",
    "plt.show()"
   ]
  },
  {
   "cell_type": "markdown",
   "metadata": {},
   "source": [
    "> **For validation dataset, we see the same faster and higher rise of accuracy with DGL transformer (97% vs 90%). It's interesting to remark that it rises up to the same level of accuracy as train dataset (>95%) while original transformer tends to be a bit lower in validation dataset (<95%)**"
   ]
  },
  {
   "cell_type": "code",
   "execution_count": 35,
   "metadata": {},
   "outputs": [
    {
     "data": {
      "image/png": "[encoded data removed]",
      "text/plain": [
       "<Figure size 720x432 with 1 Axes>"
      ]
     },
     "metadata": {
      "needs_background": "light"
     },
     "output_type": "display_data"
    }
   ],
   "source": [
    "plt.rcParams['figure.figsize'] = [10, 6]\n",
    "\n",
    "fig, ax = plt.subplots()\n",
    "\n",
    "ax.plot(\n",
    "    list(map(lambda l: l.step, original_transfo_interpolate_accuracy)),\n",
    "    list(map(lambda l: l.value, original_transfo_interpolate_accuracy)),\n",
    "    marker='+', label='Original Transfo Interpolate Accuracy'\n",
    ")\n",
    "ax.plot(\n",
    "    list(map(lambda l: l.step, dgl_transfo_interpolate_accuracy)),\n",
    "    list(map(lambda l: l.value, dgl_transfo_interpolate_accuracy)),\n",
    "    marker='o', label='DGL Transfo Interpolate Accuracy'\n",
    ")\n",
    "plt.title('Arithmetic/Easy Interpolate Accuracy')\n",
    "ax.legend(loc='upper left', frameon=False)\n",
    "plt.xticks(np.arange(0, 12, step=1.0))\n",
    "plt.yticks(np.arange(0.3, 1.0, step=0.1))\n",
    "plt.show()"
   ]
  },
  {
   "cell_type": "markdown",
   "metadata": {},
   "source": [
    "> **For interpolate dataset (containing more generic questions/answers on this arithmetic problem to test generalization capabilities), it's getting more accurate faster and much higher (80% vs 60%). It's quite interesting because we see here that with DGL Transformer, it has learnt to generalise much better  in less epoch.**"
   ]
  },
  {
   "cell_type": "markdown",
   "metadata": {},
   "source": [
    "## Check Inference"
   ]
  },
  {
   "cell_type": "code",
   "execution_count": 175,
   "metadata": {},
   "outputs": [
    {
     "name": "stdout",
     "output_type": "stream",
     "text": [
      "Extracting state from checkpoints/dgl_transformer_arithmetic_add_or_sub_easy_2019-05-03_1000_validation_best.pth\n",
      "Loading model state_dict from state found in checkpoints/dgl_transformer_arithmetic_add_or_sub_easy_2019-05-03_1000_validation_best.pth\n"
     ]
    }
   ],
   "source": [
    "# build default transformer model\n",
    "model = utils.build_dgl_transformer()\n",
    "# restore model from checkpoint\n",
    "_ = checkpoints.restore_best_checkpoint(exp_name, unique_id, \"validation\", model)\n",
    "model = model.to(device)"
   ]
  },
  {
   "cell_type": "code",
   "execution_count": 202,
   "metadata": {},
   "outputs": [
    {
     "name": "stdout",
     "output_type": "stream",
     "text": [
      "What is 1 + 1 ['2']\n",
      "Yeah it works!\n"
     ]
    }
   ],
   "source": [
    "print(\"What is 1 + 1\", dgl_model_process.predict_single(\"What is 1 + 1\", model, device, graph_collate))\n",
    "print(\"Yeah it works!\")"
   ]
  },
  {
   "cell_type": "code",
   "execution_count": 203,
   "metadata": {},
   "outputs": [
    {
     "name": "stdout",
     "output_type": "stream",
     "text": [
      "What is 10 + 10 ['200']\n",
      "WHATTTT\n"
     ]
    }
   ],
   "source": [
    "print(\"What is 10 + 10\", dgl_model_process.predict_single(\"What is 10 + 10\", model, device, graph_collate))\n",
    "\n",
    "print(\"WHATTTT\")"
   ]
  },
  {
   "cell_type": "markdown",
   "metadata": {},
   "source": [
    "> Actually it doesn't work for basic example... I've discovered there are issues with DGL Transformer inference code using Beam Search. I haven't found why it's not working as expected for now, I need to investigate further what's going wrong in inference as training performance metrics works well. Still work to do on that topic..."
   ]
  },
  {
   "cell_type": "markdown",
   "metadata": {},
   "source": [
    "## Conclusion\n",
    "\n",
    "I'm not going to make any definite conclusion based on these very superficial experiments based on short trainings. Yet, it's a cool experiment as DGL Transformer, despite slow training, learns very fast and very accurate on these simple arithmetic math problems while apparently being able to generalize quite well on interpolate dataset which contains problems it has never seen. So it's quite encouraging and I want to study more about those Graph Neural Networks.\n",
    "\n",
    "I'll try to train on hard difficulty the same DGL Transformer to see if it behaves the same.\n",
    "\n",
    "Moreover, I need to run the original transformer on a longer training (more than 20epochs) to see the maximum of accuracy it can reach in interpolate mode compared to DGL Transformer.\n",
    "\n",
    "**If anyone can lend me some bigger parallel GPUs, tell me, I'll try to train those models on them to have more accurate results ;)**\n",
    "\n",
    "Next Steps:\n",
    "\n",
    "- use Attention maps to introspect learnt knowledge\n",
    "- search why inference with beam search fails for basic operations whereas training metrics work well\n",
    "\n",
    "_See you for more experiments and thanks to [DGL library](www.dgl.org) and the creators of Transformer. Not sure I'll solve all my math problems with neural networks soon but I'm having fun and learning a lot myself ;)_"
   ]
  },
  {
   "cell_type": "code",
   "execution_count": null,
   "metadata": {},
   "outputs": [],
   "source": []
  }
 ],
 "metadata": {
  "kernelspec": {
   "display_name": "Python 3",
   "language": "python",
   "name": "python3"
  },
  "language_info": {
   "codemirror_mode": {
    "name": "ipython",
    "version": 3
   },
   "file_extension": ".py",
   "mimetype": "text/x-python",
   "name": "python",
   "nbconvert_exporter": "python",
   "pygments_lexer": "ipython3",
   "version": "3.6.8"
  }
 },
 "nbformat": 4,
 "nbformat_minor": 2
}
